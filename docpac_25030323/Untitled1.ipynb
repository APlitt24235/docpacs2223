{
 "cells": [
  {
   "cell_type": "markdown",
   "id": "1e659330",
   "metadata": {},
   "source": [
    "# Jupyter Notebook Test\n",
    "\n",
    "- List 1\n",
    "- list 2\n",
    "- sdlfkjslf\n",
    "\n",
    "1. 939393\n",
    "2. 90-e284094\n",
    "3. liasjklsjdf\n",
    "\n",
    "## Here's some python for ya"
   ]
  },
  {
   "cell_type": "code",
   "execution_count": 1,
   "id": "844cf461",
   "metadata": {},
   "outputs": [
    {
     "name": "stdout",
     "output_type": "stream",
     "text": [
      "5\n"
     ]
    }
   ],
   "source": [
    "x = 5\n",
    "print(5)"
   ]
  },
  {
   "cell_type": "markdown",
   "id": "c807d12b",
   "metadata": {},
   "source": [
    "## Here's some javascript for ya"
   ]
  },
  {
   "cell_type": "code",
   "execution_count": 4,
   "id": "8d0e7f27",
   "metadata": {},
   "outputs": [
    {
     "data": {
      "application/javascript": [
       "alert(\"javascroopt\")\n"
      ],
      "text/plain": [
       "<IPython.core.display.Javascript object>"
      ]
     },
     "metadata": {},
     "output_type": "display_data"
    }
   ],
   "source": [
    "%%javascript\n",
    "alert(\"javascroopt\")"
   ]
  },
  {
   "cell_type": "code",
   "execution_count": 5,
   "id": "dbc6dcba",
   "metadata": {},
   "outputs": [
    {
     "data": {
      "text/html": [
       "<marquee>Hello world!</marquee>\n"
      ],
      "text/plain": [
       "<IPython.core.display.HTML object>"
      ]
     },
     "metadata": {},
     "output_type": "display_data"
    }
   ],
   "source": [
    "%%html\n",
    "<marquee>Hello world!</marquee>"
   ]
  },
  {
   "cell_type": "code",
   "execution_count": null,
   "id": "7e889355",
   "metadata": {},
   "outputs": [],
   "source": []
  }
 ],
 "metadata": {
  "kernelspec": {
   "display_name": "Python 3 (ipykernel)",
   "language": "python",
   "name": "python3"
  },
  "language_info": {
   "codemirror_mode": {
    "name": "ipython",
    "version": 3
   },
   "file_extension": ".py",
   "mimetype": "text/x-python",
   "name": "python",
   "nbconvert_exporter": "python",
   "pygments_lexer": "ipython3",
   "version": "3.9.1"
  }
 },
 "nbformat": 4,
 "nbformat_minor": 5
}
