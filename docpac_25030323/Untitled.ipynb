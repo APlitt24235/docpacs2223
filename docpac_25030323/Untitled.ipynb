{
 "cells": [
  {
   "cell_type": "markdown",
   "id": "3bef2838",
   "metadata": {},
   "source": [
    "# Jupyter Notebook Test\n",
    "- List1\n",
    "- List2\n",
    "1. 163216136\n",
    "2. 16361361\n",
    "\n",
    "## Here's some python for ya"
   ]
  },
  {
   "cell_type": "code",
   "execution_count": 2,
   "id": "cede101e",
   "metadata": {},
   "outputs": [
    {
     "name": "stdout",
     "output_type": "stream",
     "text": [
      "5\n"
     ]
    }
   ],
   "source": [
    "x = 5\n",
    "print(x)"
   ]
  },
  {
   "cell_type": "markdown",
   "id": "a1b03576",
   "metadata": {},
   "source": [
    "## Here's some javascript for ya"
   ]
  },
  {
   "cell_type": "code",
   "execution_count": 4,
   "id": "11067f91",
   "metadata": {},
   "outputs": [
    {
     "data": {
      "application/javascript": [
       "alert(\"Javascroopt\")\n"
      ],
      "text/plain": [
       "<IPython.core.display.Javascript object>"
      ]
     },
     "metadata": {},
     "output_type": "display_data"
    }
   ],
   "source": [
    "%%javascript\n",
    "alert(\"Javascroopt\")"
   ]
  },
  {
   "cell_type": "code",
   "execution_count": 5,
   "id": "9dbddd20",
   "metadata": {},
   "outputs": [
    {
     "data": {
      "text/html": [
       "<marquee> Hello World!</marquee>\n"
      ],
      "text/plain": [
       "<IPython.core.display.HTML object>"
      ]
     },
     "metadata": {},
     "output_type": "display_data"
    }
   ],
   "source": [
    "%%html\n",
    "<marquee> Hello World!</marquee>"
   ]
  },
  {
   "cell_type": "code",
   "execution_count": null,
   "id": "4a75c095",
   "metadata": {},
   "outputs": [],
   "source": []
  }
 ],
 "metadata": {
  "kernelspec": {
   "display_name": "Python 3 (ipykernel)",
   "language": "python",
   "name": "python3"
  },
  "language_info": {
   "codemirror_mode": {
    "name": "ipython",
    "version": 3
   },
   "file_extension": ".py",
   "mimetype": "text/x-python",
   "name": "python",
   "nbconvert_exporter": "python",
   "pygments_lexer": "ipython3",
   "version": "3.9.1"
  }
 },
 "nbformat": 4,
 "nbformat_minor": 5
}
