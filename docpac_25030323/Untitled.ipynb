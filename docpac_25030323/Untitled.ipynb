{
 "cells": [
  {
   "cell_type": "markdown",
   "id": "24b9fa79",
   "metadata": {},
   "source": [
    "# Juypter Notebook Test\n",
    "\n",
    "can i put my balls in your jaws\n",
    "- bals\n",
    "- jals"
   ]
  },
  {
   "cell_type": "code",
   "execution_count": 2,
   "id": "8d62e45c",
   "metadata": {},
   "outputs": [
    {
     "name": "stdout",
     "output_type": "stream",
     "text": [
      "True\n"
     ]
    }
   ],
   "source": [
    "penis = True\n",
    "print(penis)"
   ]
  },
  {
   "cell_type": "markdown",
   "id": "08bd2dc3",
   "metadata": {},
   "source": [
    "## here is javascript"
   ]
  },
  {
   "cell_type": "code",
   "execution_count": 3,
   "id": "5e9f3f40",
   "metadata": {},
   "outputs": [
    {
     "data": {
      "application/javascript": [
       "alert(\"javascrump\")\n"
      ],
      "text/plain": [
       "<IPython.core.display.Javascript object>"
      ]
     },
     "metadata": {},
     "output_type": "display_data"
    }
   ],
   "source": [
    "%%javascript\n",
    "alert(\"javascrump\")"
   ]
  },
  {
   "cell_type": "code",
   "execution_count": null,
   "id": "af30a280",
   "metadata": {},
   "outputs": [],
   "source": []
  }
 ],
 "metadata": {
  "kernelspec": {
   "display_name": "Python 3 (ipykernel)",
   "language": "python",
   "name": "python3"
  },
  "language_info": {
   "codemirror_mode": {
    "name": "ipython",
    "version": 3
   },
   "file_extension": ".py",
   "mimetype": "text/x-python",
   "name": "python",
   "nbconvert_exporter": "python",
   "pygments_lexer": "ipython3",
   "version": "3.9.1"
  }
 },
 "nbformat": 4,
 "nbformat_minor": 5
}
