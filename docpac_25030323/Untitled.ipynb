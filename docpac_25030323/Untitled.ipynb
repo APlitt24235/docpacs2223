{
 "cells": [
  {
   "cell_type": "markdown",
   "id": "0cdc2a66",
   "metadata": {},
   "source": [
    "# Jupyter Notebook Test\n",
    "\n",
    "- when the\n",
    "- impostor \n",
    "- is having\n",
    "- a lovely day\n",
    "\n",
    "## Here's some python apparently"
   ]
  },
  {
   "cell_type": "code",
   "execution_count": 1,
   "id": "b67a02a7",
   "metadata": {},
   "outputs": [
    {
     "name": "stdout",
     "output_type": "stream",
     "text": [
      "5\n"
     ]
    }
   ],
   "source": [
    "x = 5\n",
    "print(5)"
   ]
  },
  {
   "cell_type": "markdown",
   "id": "9da2dce5",
   "metadata": {},
   "source": [
    "## Here's some javascript as well smile"
   ]
  },
  {
   "cell_type": "code",
   "execution_count": 2,
   "id": "435398e0",
   "metadata": {},
   "outputs": [
    {
     "data": {
      "application/javascript": [
       "alert('javascript baby woo!')\n"
      ],
      "text/plain": [
       "<IPython.core.display.Javascript object>"
      ]
     },
     "metadata": {},
     "output_type": "display_data"
    }
   ],
   "source": [
    "%%javascript\n",
    "alert('javascript baby woo!')"
   ]
  },
  {
   "cell_type": "code",
   "execution_count": null,
   "id": "60a085dc",
   "metadata": {},
   "outputs": [],
   "source": [
    "%%html\n"
   ]
  }
 ],
 "metadata": {
  "kernelspec": {
   "display_name": "Python 3 (ipykernel)",
   "language": "python",
   "name": "python3"
  },
  "language_info": {
   "codemirror_mode": {
    "name": "ipython",
    "version": 3
   },
   "file_extension": ".py",
   "mimetype": "text/x-python",
   "name": "python",
   "nbconvert_exporter": "python",
   "pygments_lexer": "ipython3",
   "version": "3.9.1"
  }
 },
 "nbformat": 4,
 "nbformat_minor": 5
}
