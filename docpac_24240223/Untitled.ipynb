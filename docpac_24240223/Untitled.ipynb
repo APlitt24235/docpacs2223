{
 "cells": [
  {
   "cell_type": "markdown",
   "id": "677282fb",
   "metadata": {},
   "source": [
    "# Jupyter Notebook Test\n",
    "\n",
    "Don't let us down\n",
    "-list1\n",
    "## Here is some python"
   ]
  },
  {
   "cell_type": "code",
   "execution_count": 1,
   "id": "3bb8404a",
   "metadata": {},
   "outputs": [
    {
     "name": "stdout",
     "output_type": "stream",
     "text": [
      "5\n"
     ]
    }
   ],
   "source": [
    "x=5\n",
    "print(x)"
   ]
  },
  {
   "cell_type": "markdown",
   "id": "e4c3819f",
   "metadata": {},
   "source": [
    "## Javascript is here"
   ]
  },
  {
   "cell_type": "code",
   "execution_count": 2,
   "id": "5122a558",
   "metadata": {},
   "outputs": [
    {
     "data": {
      "application/javascript": [
       "alert('My Lord Zamasu')\n"
      ],
      "text/plain": [
       "<IPython.core.display.Javascript object>"
      ]
     },
     "metadata": {},
     "output_type": "display_data"
    }
   ],
   "source": [
    "%%javascript\n",
    "alert('My Lord Zamasu')"
   ]
  },
  {
   "cell_type": "code",
   "execution_count": 3,
   "id": "ca16fc72",
   "metadata": {},
   "outputs": [
    {
     "data": {
      "text/html": [
       "<marquee>Hello World</marquee>\n"
      ],
      "text/plain": [
       "<IPython.core.display.HTML object>"
      ]
     },
     "metadata": {},
     "output_type": "display_data"
    }
   ],
   "source": [
    "%%html\n",
    "<marquee>Hello World</marquee>\n"
   ]
  },
  {
   "cell_type": "code",
   "execution_count": null,
   "id": "63be5de2",
   "metadata": {},
   "outputs": [],
   "source": []
  }
 ],
 "metadata": {
  "kernelspec": {
   "display_name": "Python 3 (ipykernel)",
   "language": "python",
   "name": "python3"
  },
  "language_info": {
   "codemirror_mode": {
    "name": "ipython",
    "version": 3
   },
   "file_extension": ".py",
   "mimetype": "text/x-python",
   "name": "python",
   "nbconvert_exporter": "python",
   "pygments_lexer": "ipython3",
   "version": "3.9.1"
  }
 },
 "nbformat": 4,
 "nbformat_minor": 5
}
