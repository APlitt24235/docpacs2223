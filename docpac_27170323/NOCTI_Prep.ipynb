{
 "cells": [
  {
   "attachments": {},
   "cell_type": "markdown",
   "metadata": {},
   "source": [
    "# NOCTI PREP\n",
    "\n",
    "## Project setup\n",
    "Use `npm init` to start a new nodeJS project in the current terminal directory.\n",
    "\n",
    "## Set up node modules\n",
    "In the main .js file, you need to import the modules we will use, and install them with `npm i packagename`.\n",
    "\n",
    "You need to install `express` and `ejs`."
   ]
  },
  {
   "cell_type": "code",
   "execution_count": 5,
   "metadata": {
    "vscode": {
     "languageId": "javascript"
    }
   },
   "outputs": [
    {
     "name": "stdout",
     "output_type": "stream",
     "text": [
      "Microsoft Windows [Version 10.0.19045.2728]\n",
      "(c) Microsoft Corporation. All rights reserved.\n",
      "\n",
      "c:\\Users\\csmith01\\Documents\\docpacs2223\\docpac_27170323>npm init\n",
      "This utility will walk you through creating a package.json file.\n",
      "It only covers the most common items, and tries to guess sensible defaults.\n",
      "\n",
      "See `npm help init` for definitive documentation on these fields\n",
      "and exactly what they do.\n",
      "\n",
      "Use `npm install <pkg>` afterwards to install a package and\n",
      "save it as a dependency in the package.json file.\n",
      "\n",
      "Press ^C at any time to quit.\n",
      "package name: (docpac_27170323) Sorry, name can only contain URL-friendly characters.\n"
     ]
    },
    {
     "name": "stderr",
     "output_type": "stream",
     "text": [
      "\n",
      "\n"
     ]
    },
    {
     "name": "stdout",
     "output_type": "stream",
     "text": [
      "package name: (docpac_27170323) \n",
      "c:\\Users\\csmith01\\Documents\\docpacs2223\\docpac_27170323>"
     ]
    }
   ],
   "source": [
    "%%cmd\n",
    "npm init\n",
    "npm i express\n",
    "npm i ejs"
   ]
  },
  {
   "cell_type": "code",
   "execution_count": 1,
   "metadata": {
    "vscode": {
     "languageId": "javascript"
    }
   },
   "outputs": [
    {
     "data": {
      "application/javascript": "const express = require('express'); // npm i express\n",
      "text/plain": [
       "<IPython.core.display.Javascript object>"
      ]
     },
     "metadata": {},
     "output_type": "display_data"
    }
   ],
   "source": [
    "%%javascript\n",
    "const express = require('express'); // npm i express"
   ]
  },
  {
   "attachments": {},
   "cell_type": "markdown",
   "metadata": {},
   "source": [
    "## Set up express configuration\n",
    "Make a new express app object, tell it use EJS, and bodyparser"
   ]
  },
  {
   "cell_type": "code",
   "execution_count": 2,
   "metadata": {
    "vscode": {
     "languageId": "javascript"
    }
   },
   "outputs": [
    {
     "data": {
      "application/javascript": "const app = express(); // Create express application\n\napp.set('view engine', 'ejs'); // \"Set\" the \"view engine\" setting to \"ejs\"\napp.use(express.urlencoded( {extended: true} )); //Use body parser\n",
      "text/plain": [
       "<IPython.core.display.Javascript object>"
      ]
     },
     "metadata": {},
     "output_type": "display_data"
    }
   ],
   "source": [
    "%%javascript\n",
    "const app = express(); // Create express application\n",
    "\n",
    "// Use npm i ejs to install EJS\n",
    "app.set('view engine', 'ejs'); // \"Set\" the \"view engine\" setting to \"ejs\"\n",
    "app.use(express.urlencoded( {extended: true} )); //Use body parser"
   ]
  },
  {
   "attachments": {},
   "cell_type": "markdown",
   "metadata": {},
   "source": [
    "## Set endpoints\n",
    "Create locations that users can connect to"
   ]
  },
  {
   "cell_type": "code",
   "execution_count": 3,
   "metadata": {
    "vscode": {
     "languageId": "javascript"
    }
   },
   "outputs": [
    {
     "data": {
      "application/javascript": "app.get('/', (request, response) => {\n    // When the server is done handling the GET request, do this callback function\n    response.send(\"Hello, world!\");\n});\n",
      "text/plain": [
       "<IPython.core.display.Javascript object>"
      ]
     },
     "metadata": {},
     "output_type": "display_data"
    }
   ],
   "source": [
    "%%javascript\n",
    "app.get('/', (request, response) => {\n",
    "    // When the server is done handling the GET request, do this callback function\n",
    "    response.send(\"Hello, world!\");\n",
    "});"
   ]
  },
  {
   "attachments": {},
   "cell_type": "markdown",
   "metadata": {},
   "source": [
    "## Start listen server\n",
    "Make the express app start listening for connections to a port"
   ]
  },
  {
   "cell_type": "code",
   "execution_count": 4,
   "metadata": {
    "vscode": {
     "languageId": "javascript"
    }
   },
   "outputs": [
    {
     "data": {
      "application/javascript": "app.listen(3000, (error) => {\n    //Handle any possible errors\n    if (error) {\n        console.log(error);\n    } else {\n        console.log(\"Listening on port 3000\");\n    }\n});\n",
      "text/plain": [
       "<IPython.core.display.Javascript object>"
      ]
     },
     "metadata": {},
     "output_type": "display_data"
    }
   ],
   "source": [
    "%%javascript\n",
    "app.listen(3000, (error) => {\n",
    "    //Handle any possible errors\n",
    "    if (error) {\n",
    "        console.log(error);\n",
    "    } else {\n",
    "        console.log(\"Listening on port 3000\");\n",
    "    }\n",
    "});"
   ]
  }
 ],
 "metadata": {
  "kernelspec": {
   "display_name": "Python 3",
   "language": "python",
   "name": "python3"
  },
  "language_info": {
   "codemirror_mode": {
    "name": "ipython",
    "version": 3
   },
   "file_extension": ".py",
   "mimetype": "text/x-python",
   "name": "python",
   "nbconvert_exporter": "python",
   "pygments_lexer": "ipython3",
   "version": "3.9.1"
  },
  "orig_nbformat": 4
 },
 "nbformat": 4,
 "nbformat_minor": 2
}
